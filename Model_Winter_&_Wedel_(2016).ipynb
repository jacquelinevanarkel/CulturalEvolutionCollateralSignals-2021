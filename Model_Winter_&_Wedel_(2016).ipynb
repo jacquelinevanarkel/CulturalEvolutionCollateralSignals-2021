{
  "nbformat": 4,
  "nbformat_minor": 0,
  "metadata": {
    "colab": {
      "name": "Model_Winter & Wedel (2016).ipynb",
      "provenance": [],
      "authorship_tag": "ABX9TyPHAfIt1QNXUnb3rSqGTXHR",
      "include_colab_link": true
    },
    "kernelspec": {
      "name": "python3",
      "display_name": "Python 3"
    },
    "language_info": {
      "name": "python"
    }
  },
  "cells": [
    {
      "cell_type": "markdown",
      "metadata": {
        "id": "view-in-github",
        "colab_type": "text"
      },
      "source": [
        "<a href=\"https://colab.research.google.com/github/jacquelinevanarkel/CulturalEvolutionCollateralSignals-2021/blob/main/Model_Winter_%26_Wedel_(2016).ipynb\" target=\"_parent\"><img src=\"https://colab.research.google.com/assets/colab-badge.svg\" alt=\"Open In Colab\"/></a>"
      ]
    },
    {
      "cell_type": "markdown",
      "metadata": {
        "id": "a_zZBw6QKYo4"
      },
      "source": [
        "# Replication of Winter & Wedel (2016) / Wedel (2012)\n",
        "\n",
        "Because we decided to first replicate the study, everything about the collateral signals is left out (but taken into account for the ease of implementation later on). After the resutls are replicated, we adjust the model to introduce a division between word categories: communicative words and metacommunicative words.   "
      ]
    },
    {
      "cell_type": "markdown",
      "metadata": {
        "id": "_56j5zf_K7YK"
      },
      "source": [
        "## General features\n",
        "\n",
        "- An **agent** consists of a lexicon of $|W|$ word categories (let's start with 4). ~~One word in that set should be singled out as the *continuer* word. In other words, the entire set of word categories $W$ can be further split up into a set of regular \"communicative\" words $C$ and a set of \"metacommunicative\" words $M$, where $W = C \\cup M$ and $C \\cap M = \\varnothing$. Let's start with $|M| = 1$. For the word(s) in the set $M$, additional and/or adapted pressures will apply.~~\n",
        "    - A **word** is represented by a set of exemplars. \n",
        "        - An **exemplar** is represented by a vector that designates a point in an *n*-dimensional space. Let's start with 2 dimensions, and let's have them both range arbitrarily from 0 to 100 (with integer values in between). An example of an exemplar would then be $[15, 25]$ (these individual values in the vector, like 15 and 25, are referred to as \"segments\" by Wedel, 2012).\n",
        "\n",
        "\n",
        "- **Initialisation of an agent:** <span class=\"mark\">Just a randomly generated seed set of exemplars for each word category?</span>"
      ]
    },
    {
      "cell_type": "code",
      "metadata": {
        "id": "vzpNaOhse6Cv"
      },
      "source": [
        "import random\n",
        "import numpy as np\n",
        "import matplotlib.pyplot as plt\n",
        "import math"
      ],
      "execution_count": 2,
      "outputs": []
    },
    {
      "cell_type": "code",
      "metadata": {
        "id": "3CEl3fbmLAIx"
      },
      "source": [
        "class Agent():\n",
        "\n",
        "  def __init__(self, n_words, n_dimensions, n_exemplars = 100, n_continuers=0, similarity_bias_word=True, similarity_bias_segment=True, noise=True, anti_ambiguity_bias=True):\n",
        "    \n",
        "    self.n_words = n_words\n",
        "    self.n_dimensions = n_dimensions\n",
        "    self.n_exemplars = n_exemplars\n",
        "    self.n_continuers = n_continuers\n",
        "    self.similarity_bias_word = similarity_bias_word\n",
        "    self.similarity_bias_segment = similarity_bias_segment\n",
        "    self.noise = noise\n",
        "    self.anti_ambiguity_bias = anti_ambiguity_bias\n",
        "\n",
        "    # Generate a lexicon as part of the initialisation\n",
        "    self.lexicon, self.com_words, self.meta_com_words = self.generate_lexicon()\n",
        "\n",
        "  # Initialising lexicon\n",
        "  def generate_lexicon(self):\n",
        "\n",
        "    # Create a lexicon consisting of n_words words each in turn consisting of n_exemplars exemplars\n",
        "    lexicon = []\n",
        "    for w in range(self.n_words):\n",
        "      word = []\n",
        "\n",
        "      # Define the mean and the covariance to sample from a multivariate normal distribution to create clustered exemplars for the words\n",
        "      mean = [random.randrange(10, 91) for i in range(self.n_dimensions)]\n",
        "      cov = [[10, 0], [0, 10]]\n",
        "      x, y = np.random.multivariate_normal(mean, cov, self.n_exemplars).T\n",
        "      word.append(list(map(lambda x, y: [x, y], x, y)))\n",
        "      \n",
        "      # Plot every word\n",
        "      plt.scatter(x, y)\n",
        "\n",
        "      # Initialiase all words as 'communicative words' ('C')\n",
        "      lexicon.append([word[0], \"C\"])\n",
        "\n",
        "    # print(lexicon)\n",
        "\n",
        "    # Some plot settings\n",
        "    plt.xlim(0, 100)\n",
        "    plt.ylim(0, 100)\n",
        "    plt.show()\n",
        "\n",
        "    # Split the lexicon into meta communicative words (continuers) and communicative words\n",
        "    if self.n_continuers:\n",
        "      if self.n_continuers > self.n_words:\n",
        "        raise ValueError(\"The number of continuers must be lower than the number of words.\")\n",
        "\n",
        "      # The continuers are randomly chosen out of the lexicon\n",
        "      indices_meta = random.sample(range(self.n_words), k=self.n_continuers)\n",
        "      meta_com_words = []\n",
        "      for index in indices_meta:\n",
        "        lexicon[index][1] = \"M\"\n",
        "        # Create a separate lexicon with the meta communicative words\n",
        "        meta_com_words.append(lexicon[index])\n",
        "\n",
        "      # The words that are not meta communicative words are communicative words\n",
        "      com_words = [word for word in lexicon if word not in meta_com_words]\n",
        "\n",
        "      # print(\"The word categories are split into communicative and metacommunicative words\")\n",
        "      # print(\"New lexicon:\", lexicon)\n",
        "\n",
        "      # print(\"Meta:\", meta_com_words)\n",
        "      # print(\"Com:\", com_words)\n",
        "\n",
        "    # If there are no continuers, the meta communicative words list is empty and all the words in the lexicon are communicative words\n",
        "    else:\n",
        "      com_words = lexicon\n",
        "      meta_com_words = []\n",
        "\n",
        "    return lexicon, com_words, meta_com_words"
      ],
      "execution_count": 5,
      "outputs": []
    },
    {
      "cell_type": "code",
      "metadata": {
        "colab": {
          "base_uri": "https://localhost:8080/",
          "height": 269
        },
        "id": "jQhNSnuBd3-6",
        "outputId": "970816d0-4f21-41d5-ca95-7ecf1b873da4"
      },
      "source": [
        "# Test the initialisation\n",
        "agent_test = Agent(4, 2)"
      ],
      "execution_count": 6,
      "outputs": [
        {
          "output_type": "display_data",
          "data": {
            "image/png": "[encoded data removed]",
            "text/plain": [
              "<Figure size 432x288 with 1 Axes>"
            ]
          },
          "metadata": {
            "tags": [],
            "needs_background": "light"
          }
        }
      ]
    },
    {
      "cell_type": "markdown",
      "metadata": {
        "id": "7VEVHMBGKkhZ"
      },
      "source": [
        "## Production:\n",
        "\n",
        "Production begins by selecting one exemplar from a word category: An exemplar is chosen from the target word category with probability proportional to the exemplar's activation level. \n",
        "- **Activation level:** \n",
        "    - _\"Each new exemplar is associated with an initial activation value that decreases over time (i.e., memory decay; Hintzman, 1986; Nosofsky, 1986; Pierrehumbert, 2001).\"_ (Winter & Wedel, 2016)\n",
        "    - _\"Activation is calculated as an exponential function of recency, where exemplars that were stored 100 rounds previously have an activation level that is approximately .1% that of a new exemplar).\"_ (Wedel, 2012)\n",
        "    - _\"In the model runs shown here, the activation of a exemplar is modeled as $e^{0.2j}$, where $j$ is its list position; this results in a exemplar at position 100 having an activation that is approximately .01 times that of an exemplar at position 1.\"_ (Wedel, 2012; Appendix)\n",
        "    - _\"The probability of an exemplar being chosen as a production target is its activation relative to the total activation of all exemplars in the category.\"_ (Wedel, 2012; Appendix)\n",
        "    - _\"Exemplars at list positions greater than 100 are discarded after every round to keep computation efficient; preserving more exemplars slows the rate of change in the system but otherwise does not qualitatively change system behavior.\"_ (Wedel, 2012; Appendix)\n",
        "  \n",
        "Before this target is passed to the listener however, two biases are applied to it:\"\n",
        "- **Similarity biases:** Consists of the following two components:\n",
        "    - **Within-word category similarity bias:** _\"The segment exemplar values of this initial word target are stochastically biased toward the value at the same positions in all the word exemplars within the category\"_\n",
        "        - _\"At the word level, population vectors are calculated for the segment values in the target word relative to all segment values at the same position over all exemplars within that word category\"_ (Wedel, 2012; Appendix)\n",
        "    - **Within-segment-dimension similarity bias:** _\"each individual segment exemplar value in the target is also stochastically biased toward all other segment exemplars that reference the same dimension across the entire lexicon\"_ \n",
        "        - _\"At the segment level, population vectors are calculated for the segment values in the target word relative to all segment values on that dimension across the lexicon.\"_ (Wedel, 2012; Appendix)\n",
        "    - _\"To model the influence of both word and segment recency and similarity on production variation, the population vectors at each segment dimension at each level are combined to create a new output that combines information from both within-word category, and within-lexicon sources. The relative contribution of word versus segment population vectors to the output was fixed at .9.\"_ (Wedel, 2012; Appendix) <span class=\"mark\"> --> Wait, what does that last bit mean exactly? That the segment-level population vector contributes 9/10th of what the word-level population vector contributes? Or the other way around? Or something else entirely? Not sure how to interpret this... The Wedel (2012) Appendix refers to the following two articles in this context: (Guenther and Gjaja 1996; Oudeyer 2002); maybe those references could help us? (Also quite likely they won't though.) </span>\n",
        "    - _\"The population vector with respect to a particular point within a particular segment dimension is a weighted average of all segment exemplars mapped to the category, where both the Euclidean distance from the target exemplar and activation influence each exemplar’s contribution. This is conceptually the same as Nosofsky’s Generalized Context model (Nosofsky 1988), modified to take exemplar activation into account. The formula used to incorporate these factors is given below, where $p$ is the output population vector, y is each position within the segment dimension value of the target under production, $w_y$ is the activation of the exemplar, $x$ is the reference point chosen as the basis for production, and $k$ is a scaling factor influencing the fall off of the contribution to the population vector of the point $y$ relative to $x$:\"_ (Wedel, 2012; Appendix)\n",
        "\n",
        "$$ p = \\frac{\\sum_y yw_{y} e^{-k |x-y|}}{\\sum_{y} w_{y} e^{-k |x-y|}} $$\n",
        "\n",
        "- _\"The value of $k$ used in the simulations shown here is 0.2; a larger value of $k$ reduces the effect of more distant values on the population vector.\"_ (Wedel, 2012; Appendix). --> Let us start with $k = 0.2$ as well, but make $k$ into a parameter that we can change just in case.\n",
        "\n",
        "\n",
        "- **Random noise:** _\"Noise is added to values of the output target by adding a normally distributed random value. This random value is biased slightly toward the center of the dimension, (i.e. a scale value of 50), in a simple model of production-based lenition (Pierrehumbert 2001; see also e.g. Lindblom et al. 1984 for arguments that the packing of phoneme inventories is in part a consequence of effort-minimization processes). The results described below do not depend on this lenition bias, but they contribute to the illustration by imposing a tendency for each segment exemplar distribution to drift toward the center of each dimension which encourages category merger (see discussion below).\"_ \n",
        "    - _\"Finally, a Gaussian random variable with a standard deviation of 3 is added to the output to introduce noise. This variable is biased slightly toward the center of the dimensional space, creating a fixed attractor at the center of each segment dimension in the system. The bias is calculated using a parabolic response curve given below, where $b$ is the bias added to the output population vector, $p$ is the output population vector, $N$ is the number of points in the space and $G$ is a constant; $b$ is subtracted from outputs greater than $N/2$ (here, 50) and added to those below it.\"_ (Wedel, 2012; Appendix)\n",
        "    \n",
        "$$ b = \\frac{(p-N/2)^2}{G}$$\n",
        "\n",
        "- _\"The value of G used in these simulations was 5000, giving a bias toward the center of 0.5 at the edges of the continuum. All else being equal, this bias shifts the distributions of both categories toward the center of the dimension over time, i.e. toward 50, which corresponds to a simple model of articulatory undershoot (cf. Lindblom 1983; Pierrehumbert 2001).\"_ (Wedel, 2012; Appendix)"
      ]
    },
    {
      "cell_type": "code",
      "metadata": {
        "id": "BjHSAE9bS6yp"
      },
      "source": [
        "class Production(Agent):\n",
        "\n",
        "  def __init__(self, similarity_bias_word, similarity_bias_segment, noise):\n",
        "        super().__init__(similarity_bias_word, similarity_bias_segment, noise, lexicon)\n",
        "\n",
        "  def select_exemplar(self, word_index):\n",
        "\n",
        "    # Only store exemplars until position 100\n",
        "    exemplars = lexicon[word_index][1][:101]\n",
        "\n",
        "    activation_exemplars = []\n",
        "    j = 1\n",
        "    for exemplar in exemplars: \n",
        "      activation = math.exp(0.2*j)\n",
        "      activation_exemplars.append(activation)\n",
        "      j += 1\n",
        "\n",
        "    activation_word = sum(activation_exemplars)\n",
        "\n",
        "    exemplar_probs = [activation/activation_word for activation in activation_exemplars]\n",
        "    max_prob = max(exemplar_probs)\n",
        "    exemplar = random.choices(exemplars, weights = exemplar_probs, k = 1)\n",
        "\n",
        "    return self.add_biases(exemplar)\n",
        "\n",
        "  def add_biases(self):\n",
        "    \n",
        "    if self.similarity_bias_word:\n",
        "      exemplar = self.similarity_bias_word()\n",
        "\n",
        "    if self.similarity_bias_segment:\n",
        "      exemplar = self.similarity_bias_segment()\n",
        "\n",
        "    if self.noise:\n",
        "      exemplar = self.noise()\n",
        "\n",
        "    return exemplar\n",
        "\n",
        "  def similarity_bias_word(self):\n",
        "\n",
        "    \n",
        "\n",
        "    return exemplar\n",
        "\n",
        "  def similarity_bias_segment(self):\n",
        "\n",
        "    return exemplar\n",
        "\n",
        "  def noise(self):\n",
        "\n",
        "    return exemplar"
      ],
      "execution_count": 7,
      "outputs": []
    },
    {
      "cell_type": "code",
      "metadata": {
        "id": "k0cSEPbDr4h8",
        "colab": {
          "base_uri": "https://localhost:8080/"
        },
        "outputId": "2d009d67-c4c9-4736-cfb4-a43650766700"
      },
      "source": [
        "x = math.exp(20)\n",
        "y = math.exp(0.2)\n",
        "\n",
        "print(x)\n",
        "print(y)\n",
        "\n",
        "print(x/y)"
      ],
      "execution_count": null,
      "outputs": [
        {
          "output_type": "stream",
          "text": [
            "485165195.4097903\n",
            "1.2214027581601699\n",
            "397219665.8050838\n"
          ],
          "name": "stdout"
        }
      ]
    },
    {
      "cell_type": "markdown",
      "metadata": {
        "id": "wgzt8ZFPKq1K"
      },
      "source": [
        "##Perception:\n",
        "        \n",
        "_\"begins the categorization process by calculating the similarity of the speaker output to each category’s stored word exemplars given their activations, in a variant of the Generalized Context Model (Nosofsky 1988). The overall similarities of the speaker output to each category are interpreted as a relative goodness of fit, and the speaker output is then stored as a new exemplar in the best fitting category.\"_\n",
        "\n",
        "- **Anti-ambiguity bias:** From Winter & Wedel (2016): _\"A final feature of the model is a bias against confusability of word perception, that is, an anti-ambiguity bias. The bias is implemented as follows: the probability of successful identification of an output with a word category is proportional to the degree to which the output uniquely maps to that category and to no other. In this way, distinctive speaker outputs are more likely to be stored than ambiguous outputs, with the result that distinctive phonetic values contribute more to the continuing evolution of the lexicon, both at the word and sound levels.\"_"
      ]
    },
    {
      "cell_type": "code",
      "metadata": {
        "id": "9LIhWa6ZYpEc"
      },
      "source": [
        "class Perception(Agent):\n",
        "\n",
        "  def __init__(self, anti_ambiguity_bias, signal):\n",
        "      super().__init__(anti_ambiguity_bias)\n",
        "      self.signal = signal\n",
        "\n",
        "  def similarity(self):\n",
        "\n",
        "    return similarities\n",
        "\n",
        "  def anti_ambiguity_bias(self, similarities):\n",
        "\n",
        "    return probability_storage\n",
        "\n",
        "  def store_signal(self, probability_storage):\n",
        "\n",
        "    return lexicon"
      ],
      "execution_count": null,
      "outputs": []
    }
  ]
}